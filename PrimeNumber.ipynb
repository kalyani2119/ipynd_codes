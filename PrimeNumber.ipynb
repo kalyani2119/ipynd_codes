{
 "cells": [
  {
   "cell_type": "code",
   "execution_count": 14,
   "id": "b9d2f919",
   "metadata": {},
   "outputs": [
    {
     "name": "stdout",
     "output_type": "stream",
     "text": [
      "Please enter the number4\n",
      "NOT PRIME NUMBER\n"
     ]
    }
   ],
   "source": [
    "a = int(input(\"Please enter the number\"))\n",
    "if a>1:\n",
    "    for x in range(2,a):\n",
    "        if(a%2)==0:\n",
    "            print(\"NOT PRIME NUMBER\")\n",
    "            break\n",
    "        else:\n",
    "                print(\"PRIME NUMBER\")\n",
    "                break\n",
    "    else:\n",
    "                print(\"NOT PRIME NUMBER\")"
   ]
  },
  {
   "cell_type": "code",
   "execution_count": null,
   "id": "f2f9c598",
   "metadata": {},
   "outputs": [],
   "source": []
  },
  {
   "cell_type": "code",
   "execution_count": null,
   "id": "5ac254a8",
   "metadata": {},
   "outputs": [],
   "source": []
  }
 ],
 "metadata": {
  "kernelspec": {
   "display_name": "Python 3 (ipykernel)",
   "language": "python",
   "name": "python3"
  },
  "language_info": {
   "codemirror_mode": {
    "name": "ipython",
    "version": 3
   },
   "file_extension": ".py",
   "mimetype": "text/x-python",
   "name": "python",
   "nbconvert_exporter": "python",
   "pygments_lexer": "ipython3",
   "version": "3.9.7"
  }
 },
 "nbformat": 4,
 "nbformat_minor": 5
}
